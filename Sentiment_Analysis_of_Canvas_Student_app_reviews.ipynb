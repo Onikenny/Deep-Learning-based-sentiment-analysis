{
 "cells": [
  {
   "cell_type": "code",
   "execution_count": 29,
   "id": "efad4403",
   "metadata": {
    "id": "efad4403"
   },
   "outputs": [],
   "source": [
    "# Importing required libraries\n",
    "import warnings\n",
    "warnings.filterwarnings('always')\n",
    "warnings.filterwarnings('ignore')\n",
    "from sklearn.feature_extraction.text import TfidfVectorizer, CountVectorizer\n",
    "from sklearn.metrics import accuracy_score, confusion_matrix, recall_score, roc_curve, auc, precision_score\n",
    "# from sklearn.utils.fixes import signature\n",
    "from nltk.corpus import wordnet, stopwords\n",
    "from nltk import pos_tag, ngrams\n",
    "from nltk.tokenize import WhitespaceTokenizer\n",
    "from nltk.stem import WordNetLemmatizer\n",
    "from nltk.sentiment.vader import SentimentIntensityAnalyzer\n",
    "from nltk.collocations import * #N-grams\n",
    "import nltk.collocations #N-grams\n",
    "from collections import Counter #N-grams\n",
    "from gensim.test.utils import common_texts\n",
    "from gensim.models.doc2vec import Doc2Vec, TaggedDocument\n",
    "from wordcloud import WordCloud\n",
    "import string\n",
    "import seaborn as sns\n",
    "#import matplotlib.pyplot as plt; plt.rcde|faults()\n",
    "from matplotlib import rc\n",
    "import matplotlib.pyplot as plt\n",
    "import missingno as msno #missmap\n",
    "import numpy as np\n",
    "import pandas as pd \n",
    "import os"
   ]
  },
  {
   "cell_type": "markdown",
   "id": "88c559f2",
   "metadata": {
    "id": "88c559f2"
   },
   "source": [
    "# DATA PREPARATION AND WRANGLING\n",
    "****\n",
    "This data was provided by a third party source called Appfollow. It is a collection of the reviews on the canvas student app between 20/03/2020 and 27/03/2022\n",
    "\n",
    "## Data Description\n",
    "\n",
    "The app store data used here is a concatenation of two files  with 9847 common observations and 31 columns. Each customer review is composed of Date, AppID, AppName,Language,Version, Version Code, Rating, Title, Review, Translated title, Translated  review, Reply Date, Developer Reply, User, Device, Device Type,Tags, Categories, Notes, Likes, Dislikes, Link, Permalink, AF Link.            "
   ]
  },
  {
   "cell_type": "code",
   "execution_count": 2,
   "id": "f5ab79af",
   "metadata": {
    "colab": {
     "base_uri": "https://localhost:8080/"
    },
    "id": "f5ab79af",
    "outputId": "a8c8703a-78bc-462a-cf6c-e03e45bd748a"
   },
   "outputs": [
    {
     "name": "stdout",
     "output_type": "stream",
     "text": [
      "<class 'pandas.core.frame.DataFrame'>\n",
      "RangeIndex: 18813 entries, 0 to 18812\n",
      "Data columns (total 32 columns):\n",
      " #   Column               Non-Null Count  Dtype  \n",
      "---  ------               --------------  -----  \n",
      " 0   Date                 18813 non-null  object \n",
      " 1   AppID                18813 non-null  object \n",
      " 2   AppName              18813 non-null  object \n",
      " 3   Language             9847 non-null   object \n",
      " 4   Review Language      18785 non-null  object \n",
      " 5   Version              17200 non-null  object \n",
      " 6   VersionCode          0 non-null      float64\n",
      " 7   OS                   0 non-null      float64\n",
      " 8   Author               18813 non-null  object \n",
      " 9   Rating               18813 non-null  int64  \n",
      " 10  Title                8967 non-null   object \n",
      " 11  Review               18813 non-null  object \n",
      " 12  Translated title     0 non-null      float64\n",
      " 13  Translated review    0 non-null      float64\n",
      " 14  Reply Date           578 non-null    object \n",
      " 15  Developer Reply      578 non-null    object \n",
      " 16  User                 0 non-null      float64\n",
      " 17  Device               0 non-null      float64\n",
      " 18  Device Type          0 non-null      float64\n",
      " 19  Tags                 0 non-null      float64\n",
      " 20  Categories           0 non-null      float64\n",
      " 21  Updated              972 non-null    object \n",
      " 22  Semantic Tags        0 non-null      float64\n",
      " 23  Semantic Categories  0 non-null      float64\n",
      " 24  Semantic Sentiment   0 non-null      float64\n",
      " 25  Notes                0 non-null      float64\n",
      " 26  Likes                1190 non-null   float64\n",
      " 27  Dislikes             352 non-null    float64\n",
      " 28  Link                 8966 non-null   object \n",
      " 29  Permalink            18813 non-null  object \n",
      " 30  AF Link              18813 non-null  object \n",
      " 31  Country              8966 non-null   object \n",
      "dtypes: float64(15), int64(1), object(16)\n",
      "memory usage: 4.6+ MB\n"
     ]
    }
   ],
   "source": [
    "df1 = pd.read_csv(\"reviews_googleplay_1646499793.csv\", encoding = \"ISO-8859-1\", skiprows=2) #loading the data\n",
    "df2 = pd.read_csv(\"reviews_googleplay_1646500302.csv\", encoding = \"ISO-8859-1\", skiprows=2) #loading the data\n",
    "df3 = pd.read_csv(\"reviews_itunes_1648403710.xls\", encoding = \"ISO-8859-1\", skiprows=2) #loading the data\n",
    "\n",
    "#concatenate both dataframes and drop duplicates\n",
    "df = pd.concat([df1,df2,df3]).drop_duplicates().reset_index(drop=True)\n",
    "df.info()\n"
   ]
  },
  {
   "cell_type": "markdown",
   "id": "6726b885",
   "metadata": {
    "id": "6726b885"
   },
   "source": [
    "For the sake of our analysis, the dataset is redefined to include only features that are meaningful to the analysis."
   ]
  },
  {
   "cell_type": "code",
   "execution_count": 3,
   "id": "b79040d6",
   "metadata": {
    "id": "b79040d6"
   },
   "outputs": [],
   "source": [
    "df = df.drop([\"Author\",\"AppName\",\"Version\",\"VersionCode\",\"OS\",\"Review Language\",\"Language\",\"Translated title\", \"Translated review\", \"Reply Date\",\"Developer Reply\",\"User\",\"Device\",\"Device Type\",\"Tags\",\"Notes\",\"Link\",\"Likes\",\"Dislikes\",\"Permalink\",\"AF Link\",\"Categories\",\"Title\", \"Updated\", \"Semantic Tags\", \"AppID\", \"Semantic Categories\", \"Semantic Sentiment\", \"Tags\", \"Notes\", \"Country\", \"Date\", \"Rating\"], axis=1)"
   ]
  },
  {
   "cell_type": "code",
   "execution_count": 4,
   "id": "21052f0d",
   "metadata": {
    "colab": {
     "base_uri": "https://localhost:8080/",
     "height": 206
    },
    "id": "21052f0d",
    "outputId": "bbd79fe9-e5a8-4b25-897f-e4379d06ffba"
   },
   "outputs": [
    {
     "data": {
      "text/html": [
       "<div>\n",
       "<style scoped>\n",
       "    .dataframe tbody tr th:only-of-type {\n",
       "        vertical-align: middle;\n",
       "    }\n",
       "\n",
       "    .dataframe tbody tr th {\n",
       "        vertical-align: top;\n",
       "    }\n",
       "\n",
       "    .dataframe thead th {\n",
       "        text-align: right;\n",
       "    }\n",
       "</style>\n",
       "<table border=\"1\" class=\"dataframe\">\n",
       "  <thead>\n",
       "    <tr style=\"text-align: right;\">\n",
       "      <th></th>\n",
       "      <th>Review</th>\n",
       "    </tr>\n",
       "  </thead>\n",
       "  <tbody>\n",
       "    <tr>\n",
       "      <th>0</th>\n",
       "      <td>So helpful to have this available on my phone ...</td>\n",
       "    </tr>\n",
       "    <tr>\n",
       "      <th>1</th>\n",
       "      <td>I love this app Mustang public schools use it ...</td>\n",
       "    </tr>\n",
       "    <tr>\n",
       "      <th>2</th>\n",
       "      <td>its been great easy to navagate and use for my...</td>\n",
       "    </tr>\n",
       "    <tr>\n",
       "      <th>3</th>\n",
       "      <td>Easy to use</td>\n",
       "    </tr>\n",
       "    <tr>\n",
       "      <th>4</th>\n",
       "      <td>This app has what you really need for a virtua...</td>\n",
       "    </tr>\n",
       "  </tbody>\n",
       "</table>\n",
       "</div>"
      ],
      "text/plain": [
       "                                              Review\n",
       "0  So helpful to have this available on my phone ...\n",
       "1  I love this app Mustang public schools use it ...\n",
       "2  its been great easy to navagate and use for my...\n",
       "3                                        Easy to use\n",
       "4  This app has what you really need for a virtua..."
      ]
     },
     "execution_count": 4,
     "metadata": {},
     "output_type": "execute_result"
    }
   ],
   "source": [
    "df.head(5)"
   ]
  },
  {
   "cell_type": "code",
   "execution_count": 5,
   "id": "e51478d0",
   "metadata": {
    "colab": {
     "base_uri": "https://localhost:8080/"
    },
    "id": "e51478d0",
    "outputId": "6a4a8fa6-5b48-446b-8fd6-cd655b284987"
   },
   "outputs": [
    {
     "name": "stdout",
     "output_type": "stream",
     "text": [
      "Dimensions: (18813, 1)\n"
     ]
    },
    {
     "data": {
      "text/plain": [
       "Index(['Review'], dtype='object')"
      ]
     },
     "execution_count": 5,
     "metadata": {},
     "output_type": "execute_result"
    }
   ],
   "source": [
    "print('Dimensions:',df.shape)\n",
    "df.columns"
   ]
  },
  {
   "cell_type": "markdown",
   "id": "ODN2lHZm2Xkz",
   "metadata": {
    "id": "ODN2lHZm2Xkz"
   },
   "source": [
    "## Preprocessing data for label generation and a Random Forest "
   ]
  },
  {
   "cell_type": "markdown",
   "id": "4ff90590",
   "metadata": {
    "id": "4ff90590"
   },
   "source": [
    "> I will lemmatize the words to transform them to their base form and ensure the preservation of the context of the words. To achieve this however, the words have to be matched to their appropriate part of speech tag. The function below defines the word type based on the position tag obtained from the NLTK pos_tag module.\n",
    "The function is then implemented in the text cleaning function in the following section of code.\n",
    "Code for both functions were gleaned from here\n"
   ]
  },
  {
   "cell_type": "code",
   "execution_count": 6,
   "id": "nIcjnNK2rmu3",
   "metadata": {
    "colab": {
     "base_uri": "https://localhost:8080/",
     "height": 206
    },
    "id": "nIcjnNK2rmu3",
    "outputId": "af4d3964-003d-45a4-ab66-1b4cf7a2fac6"
   },
   "outputs": [
    {
     "data": {
      "text/html": [
       "<div>\n",
       "<style scoped>\n",
       "    .dataframe tbody tr th:only-of-type {\n",
       "        vertical-align: middle;\n",
       "    }\n",
       "\n",
       "    .dataframe tbody tr th {\n",
       "        vertical-align: top;\n",
       "    }\n",
       "\n",
       "    .dataframe thead th {\n",
       "        text-align: right;\n",
       "    }\n",
       "</style>\n",
       "<table border=\"1\" class=\"dataframe\">\n",
       "  <thead>\n",
       "    <tr style=\"text-align: right;\">\n",
       "      <th></th>\n",
       "      <th>Review</th>\n",
       "    </tr>\n",
       "  </thead>\n",
       "  <tbody>\n",
       "    <tr>\n",
       "      <th>0</th>\n",
       "      <td>So helpful to have this available on my phone ...</td>\n",
       "    </tr>\n",
       "    <tr>\n",
       "      <th>1</th>\n",
       "      <td>I love this app Mustang public schools use it ...</td>\n",
       "    </tr>\n",
       "    <tr>\n",
       "      <th>2</th>\n",
       "      <td>its been great easy to navagate and use for my...</td>\n",
       "    </tr>\n",
       "    <tr>\n",
       "      <th>3</th>\n",
       "      <td>Easy to use</td>\n",
       "    </tr>\n",
       "    <tr>\n",
       "      <th>4</th>\n",
       "      <td>This app has what you really need for a virtua...</td>\n",
       "    </tr>\n",
       "  </tbody>\n",
       "</table>\n",
       "</div>"
      ],
      "text/plain": [
       "                                              Review\n",
       "0  So helpful to have this available on my phone ...\n",
       "1  I love this app Mustang public schools use it ...\n",
       "2  its been great easy to navagate and use for my...\n",
       "3                                        Easy to use\n",
       "4  This app has what you really need for a virtua..."
      ]
     },
     "execution_count": 6,
     "metadata": {},
     "output_type": "execute_result"
    }
   ],
   "source": [
    "#df['Reviews_to_clean'] = df['Review']\n",
    "df.head()"
   ]
  },
  {
   "cell_type": "code",
   "execution_count": 7,
   "id": "1790b024",
   "metadata": {
    "id": "1790b024"
   },
   "outputs": [],
   "source": [
    "def get_tag(pos_tag):\n",
    "    if pos_tag.startswith('J'):\n",
    "        return wordnet.ADJ\n",
    "    elif pos_tag.startswith('V'):\n",
    "        return wordnet.VERB\n",
    "    elif pos_tag.startswith('N'):\n",
    "        return wordnet.NOUN\n",
    "    elif pos_tag.startswith('R'):\n",
    "        return wordnet.ADV\n",
    "    else:\n",
    "        return wordnet.NOUN"
   ]
  },
  {
   "cell_type": "markdown",
   "id": "f827a9db",
   "metadata": {
    "id": "f827a9db"
   },
   "source": [
    "According to Ogunlesi in the referenced source, The clean_text function defined below applies the following transformations:\n",
    "\n",
    "1) Change all words to lower case (lemmatization does not work on capitals as they are assumed to be proper nouns).\n",
    "\n",
    "2) Tokenize the text and remove punctuation.\n",
    "\n",
    "3) Remove numeric values.\n",
    "\n",
    "4) Remove stop words (using pre-built stop word dictionary).\n",
    "\n",
    "5) Remove any empty tokens.\n",
    "\n",
    "6) Apply a position tag to each word and define it based on the previously defined get_tag function as adjective, noun, verb, or adverb.\n",
    "\n",
    "7) Lemmatize the words.\n",
    "\n",
    "8) Remove any single letter words resulting from lemmatization."
   ]
  },
  {
   "cell_type": "code",
   "execution_count": 8,
   "id": "8exwAKkL1eAs",
   "metadata": {
    "colab": {
     "base_uri": "https://localhost:8080/"
    },
    "id": "8exwAKkL1eAs",
    "outputId": "4bf86377-c770-4334-e231-ccfc7b15e308"
   },
   "outputs": [],
   "source": [
    "import re\n",
    "def clean_text(text):\n",
    "    text = text.lower() #change all text to lower case\n",
    "    text = re.sub(r'\\s*(?:https?:\\/\\/)?[\\w.-]+(?:\\.[\\w.-]+)+[\\w\\-._~:/?#[\\]@!\\$&\\'\\(\\)\\*\\+,;=.]+','',text)\n",
    "    text = [word.strip(string.punctuation) for word in text.split(\" \")] #tokenize and remove punctuation\n",
    "    text = [word for word in text if not any(c.isdigit() for c in word)] #remove numeric values\n",
    "    stop = stopwords.words('english') #call english stop word dictionary\n",
    "    text = [x for x in text if x not in stop]#remove stop words\n",
    "    text = [t for t in text if len(t) > 0] #remove empty tokens\n",
    "    pos_tags = pos_tag(text)#apply position tag to text\n",
    "    text = [WordNetLemmatizer().lemmatize(t[0], get_tag(t[1])) for t in pos_tags] #apply pos_tag function and lemmatize text\n",
    "    text = [t for t in text if len(t) > 1]# remove single letter words\n",
    "    text = \" \".join(text) #combine\n",
    "    return(text)\n",
    "#create new column with cleaned text\n",
    "df[\"preprocessed_reviews\"] = df[\"Review\"].apply(lambda x: clean_text(x))"
   ]
  },
  {
   "cell_type": "code",
   "execution_count": 9,
   "id": "f6836857",
   "metadata": {
    "colab": {
     "base_uri": "https://localhost:8080/"
    },
    "id": "f6836857",
    "outputId": "53c9b5a4-e27f-4598-a6d8-7156c92ce0c3"
   },
   "outputs": [
    {
     "name": "stdout",
     "output_type": "stream",
     "text": [
      "Before Text Cleaning\n"
     ]
    },
    {
     "data": {
      "text/plain": [
       "0    So helpful to have this available on my phone ...\n",
       "1    I love this app Mustang public schools use it ...\n",
       "2    its been great easy to navagate and use for my...\n",
       "Name: Review, dtype: object"
      ]
     },
     "execution_count": 9,
     "metadata": {},
     "output_type": "execute_result"
    }
   ],
   "source": [
    "#Text Before Text Cleaning\n",
    "print('Before Text Cleaning')\n",
    "df['Review'].head(3)\n"
   ]
  },
  {
   "cell_type": "code",
   "execution_count": 10,
   "id": "c7e1f72e",
   "metadata": {
    "colab": {
     "base_uri": "https://localhost:8080/"
    },
    "id": "c7e1f72e",
    "outputId": "bf5ffdef-1f91-4047-abf8-52e2b0c2e6d8"
   },
   "outputs": [
    {
     "name": "stdout",
     "output_type": "stream",
     "text": [
      "After Text Cleaning\n"
     ]
    },
    {
     "data": {
      "text/plain": [
       "0                       helpful available phone tablet\n",
       "1    love app mustang public school use homework di...\n",
       "2            great easy navagate use nephew keep grade\n",
       "Name: preprocessed_reviews, dtype: object"
      ]
     },
     "execution_count": 10,
     "metadata": {},
     "output_type": "execute_result"
    }
   ],
   "source": [
    "#Text After Text Cleaning\n",
    "print('After Text Cleaning')\n",
    "df['preprocessed_reviews'].head(3)\n"
   ]
  },
  {
   "cell_type": "markdown",
   "id": "qTYFd1wp2I9t",
   "metadata": {
    "id": "qTYFd1wp2I9t"
   },
   "source": [
    "## Cleaning data for Neural network classification (No stemming/Lemmatization)"
   ]
  },
  {
   "cell_type": "code",
   "execution_count": 11,
   "id": "b16aa6c4",
   "metadata": {
    "id": "_o4_SS6R2pZc"
   },
   "outputs": [],
   "source": [
    "def depure_data(data): \n",
    "    \n",
    "    #Removing URLs with a regular expression\n",
    "    url_pattern = re.compile(r'https?://\\S+|www\\.\\S+')\n",
    "    data = url_pattern.sub(r'', data)\n",
    "\n",
    "    # Remove Emails\n",
    "    data = re.sub('\\S*@\\S*\\s?', '', data)\n",
    "\n",
    "    # Remove new line characters\n",
    "    data = re.sub('\\s+', ' ', data)\n",
    "\n",
    "    # Remove distracting single quotes\n",
    "    data = re.sub(\"\\'\", \"\", data)\n",
    "        \n",
    "    return data\n",
    "#create new column with cleaned text\n",
    "df[\"cleaned_reviews\"] = df[\"Review\"].apply(lambda x: depure_data(x)) \n"
   ]
  },
  {
   "cell_type": "code",
   "execution_count": 12,
   "id": "bc90d0f9",
   "metadata": {
    "colab": {
     "base_uri": "https://localhost:8080/"
    },
    "id": "_Mrx-eKF3yG-",
    "outputId": "b2ba01b9-4cd0-403e-a6b5-af5bbb16b891"
   },
   "outputs": [
    {
     "name": "stdout",
     "output_type": "stream",
     "text": [
      "Before Text Cleaning\n"
     ]
    },
    {
     "data": {
      "text/plain": [
       "0    So helpful to have this available on my phone ...\n",
       "1    I love this app Mustang public schools use it ...\n",
       "2    its been great easy to navagate and use for my...\n",
       "3                                          Easy to use\n",
       "4    This app has what you really need for a virtua...\n",
       "Name: Review, dtype: object"
      ]
     },
     "execution_count": 12,
     "metadata": {},
     "output_type": "execute_result"
    }
   ],
   "source": [
    "#Text Before Text Cleaning\n",
    "print('Before Text Cleaning')\n",
    "df['Review'].head(5)\n"
   ]
  },
  {
   "cell_type": "code",
   "execution_count": 13,
   "id": "67cfa59e",
   "metadata": {
    "colab": {
     "base_uri": "https://localhost:8080/"
    },
    "id": "Mv8kKGP43zAh",
    "outputId": "e974efe0-7825-45d3-a479-da179a78362e"
   },
   "outputs": [
    {
     "name": "stdout",
     "output_type": "stream",
     "text": [
      "After Text Cleaning\n"
     ]
    },
    {
     "data": {
      "text/plain": [
       "0    So helpful to have this available on my phone ...\n",
       "1    I love this app Mustang public schools use it ...\n",
       "2    its been great easy to navagate and use for my...\n",
       "3                                          Easy to use\n",
       "4    This app has what you really need for a virtua...\n",
       "Name: cleaned_reviews, dtype: object"
      ]
     },
     "execution_count": 13,
     "metadata": {},
     "output_type": "execute_result"
    }
   ],
   "source": [
    "#Text After Text Cleaning\n",
    "print('After Text Cleaning')\n",
    "df['cleaned_reviews'].head(5)"
   ]
  },
  {
   "cell_type": "code",
   "execution_count": 14,
   "id": "2c25a9e6",
   "metadata": {
    "colab": {
     "base_uri": "https://localhost:8080/"
    },
    "id": "2c25a9e6",
    "outputId": "57e6796a-82f9-4de0-dddd-c85b59bd4760"
   },
   "outputs": [
    {
     "name": "stdout",
     "output_type": "stream",
     "text": [
      "(18813, 3)\n",
      "(18639, 3)\n"
     ]
    }
   ],
   "source": [
    "# Drop all rows that are blank as a results of the text cleaning functions. Lost ??? rows.\n",
    "print(df.shape)\n",
    "df = df[df['preprocessed_reviews'].map(len) > 0]\n",
    "print(df.shape)\n"
   ]
  },
  {
   "cell_type": "markdown",
   "id": "83d0842e",
   "metadata": {
    "id": "83d0842e"
   },
   "source": [
    "# DATA ANNOTATION\n",
    "\n",
    "> Indented block\n",
    "\n",
    "\n",
    "***\n",
    "### Sentiment Analysis\n",
    "The Vader module from NLTK was the model selected for sentiment analysis. The Vader module uses a prebuilt lexicon of words to calculate a sentiment score and generate the data labels. This module was selected for sentiment analysis because the module takes into consideration the context of the text. The module returns 4 values: positivity score, neutrality score, negativity score and summary score."
   ]
  },
  {
   "cell_type": "code",
   "execution_count": 15,
   "id": "44cd6088",
   "metadata": {
    "colab": {
     "base_uri": "https://localhost:8080/",
     "height": 363
    },
    "id": "44cd6088",
    "outputId": "4e82f935-6be2-47d9-984d-3ab089759560"
   },
   "outputs": [
    {
     "data": {
      "text/html": [
       "<div>\n",
       "<style scoped>\n",
       "    .dataframe tbody tr th:only-of-type {\n",
       "        vertical-align: middle;\n",
       "    }\n",
       "\n",
       "    .dataframe tbody tr th {\n",
       "        vertical-align: top;\n",
       "    }\n",
       "\n",
       "    .dataframe thead th {\n",
       "        text-align: right;\n",
       "    }\n",
       "</style>\n",
       "<table border=\"1\" class=\"dataframe\">\n",
       "  <thead>\n",
       "    <tr style=\"text-align: right;\">\n",
       "      <th></th>\n",
       "      <th>preprocessed_reviews</th>\n",
       "      <th>neg</th>\n",
       "      <th>neu</th>\n",
       "      <th>pos</th>\n",
       "      <th>compound</th>\n",
       "    </tr>\n",
       "  </thead>\n",
       "  <tbody>\n",
       "    <tr>\n",
       "      <th>0</th>\n",
       "      <td>helpful available phone tablet</td>\n",
       "      <td>0.000</td>\n",
       "      <td>0.517</td>\n",
       "      <td>0.483</td>\n",
       "      <td>0.4215</td>\n",
       "    </tr>\n",
       "    <tr>\n",
       "      <th>1</th>\n",
       "      <td>love app mustang public school use homework di...</td>\n",
       "      <td>0.000</td>\n",
       "      <td>0.582</td>\n",
       "      <td>0.418</td>\n",
       "      <td>0.9607</td>\n",
       "    </tr>\n",
       "    <tr>\n",
       "      <th>2</th>\n",
       "      <td>great easy navagate use nephew keep grade</td>\n",
       "      <td>0.000</td>\n",
       "      <td>0.417</td>\n",
       "      <td>0.583</td>\n",
       "      <td>0.7906</td>\n",
       "    </tr>\n",
       "    <tr>\n",
       "      <th>3</th>\n",
       "      <td>easy use</td>\n",
       "      <td>0.000</td>\n",
       "      <td>0.256</td>\n",
       "      <td>0.744</td>\n",
       "      <td>0.4404</td>\n",
       "    </tr>\n",
       "    <tr>\n",
       "      <th>4</th>\n",
       "      <td>app really need virtual classroom</td>\n",
       "      <td>0.000</td>\n",
       "      <td>1.000</td>\n",
       "      <td>0.000</td>\n",
       "      <td>0.0000</td>\n",
       "    </tr>\n",
       "    <tr>\n",
       "      <th>5</th>\n",
       "      <td>exchange student use app semester help lot</td>\n",
       "      <td>0.000</td>\n",
       "      <td>0.690</td>\n",
       "      <td>0.310</td>\n",
       "      <td>0.4019</td>\n",
       "    </tr>\n",
       "    <tr>\n",
       "      <th>6</th>\n",
       "      <td>rare issue app wish inscribe forum easy view i...</td>\n",
       "      <td>0.000</td>\n",
       "      <td>0.554</td>\n",
       "      <td>0.446</td>\n",
       "      <td>0.9022</td>\n",
       "    </tr>\n",
       "    <tr>\n",
       "      <th>7</th>\n",
       "      <td>every app i've ever use glitch every we've hic...</td>\n",
       "      <td>0.044</td>\n",
       "      <td>0.753</td>\n",
       "      <td>0.203</td>\n",
       "      <td>0.8220</td>\n",
       "    </tr>\n",
       "    <tr>\n",
       "      <th>8</th>\n",
       "      <td>help can't sign computer</td>\n",
       "      <td>0.000</td>\n",
       "      <td>0.526</td>\n",
       "      <td>0.474</td>\n",
       "      <td>0.4019</td>\n",
       "    </tr>\n",
       "    <tr>\n",
       "      <th>9</th>\n",
       "      <td>awesome</td>\n",
       "      <td>0.000</td>\n",
       "      <td>0.000</td>\n",
       "      <td>1.000</td>\n",
       "      <td>0.6249</td>\n",
       "    </tr>\n",
       "  </tbody>\n",
       "</table>\n",
       "</div>"
      ],
      "text/plain": [
       "                                preprocessed_reviews    neg    neu    pos  \\\n",
       "0                     helpful available phone tablet  0.000  0.517  0.483   \n",
       "1  love app mustang public school use homework di...  0.000  0.582  0.418   \n",
       "2          great easy navagate use nephew keep grade  0.000  0.417  0.583   \n",
       "3                                           easy use  0.000  0.256  0.744   \n",
       "4                  app really need virtual classroom  0.000  1.000  0.000   \n",
       "5         exchange student use app semester help lot  0.000  0.690  0.310   \n",
       "6  rare issue app wish inscribe forum easy view i...  0.000  0.554  0.446   \n",
       "7  every app i've ever use glitch every we've hic...  0.044  0.753  0.203   \n",
       "8                           help can't sign computer  0.000  0.526  0.474   \n",
       "9                                            awesome  0.000  0.000  1.000   \n",
       "\n",
       "   compound  \n",
       "0    0.4215  \n",
       "1    0.9607  \n",
       "2    0.7906  \n",
       "3    0.4404  \n",
       "4    0.0000  \n",
       "5    0.4019  \n",
       "6    0.9022  \n",
       "7    0.8220  \n",
       "8    0.4019  \n",
       "9    0.6249  "
      ]
     },
     "execution_count": 15,
     "metadata": {},
     "output_type": "execute_result"
    }
   ],
   "source": [
    "SIA = SentimentIntensityAnalyzer()\n",
    "#calculates the negativity,  neutrality, positivity and overall sentiment scores\n",
    "df[\"sentiments\"] = df[\"preprocessed_reviews\"].apply(lambda x: SIA.polarity_scores(x))\n",
    "#drop sentiment column and add the 4 sentiment scores as separate features to primary dataset\n",
    "df = pd.concat([df.drop(['sentiments'], axis=1), df['sentiments'].apply(pd.Series)], axis=1)\n",
    "\n",
    "df[['preprocessed_reviews','neg','neu','pos','compound']].head(10)"
   ]
  },
  {
   "cell_type": "markdown",
   "id": "4722eedc",
   "metadata": {
    "id": "4722eedc"
   },
   "source": [
    "# Define Labels (Good and Bad Reviews)"
   ]
  },
  {
   "cell_type": "code",
   "execution_count": 16,
   "id": "5ed6d96c",
   "metadata": {
    "colab": {
     "base_uri": "https://localhost:8080/",
     "height": 614
    },
    "id": "5ed6d96c",
    "outputId": "56923d73-f943-40f2-c03b-3416f51ad394"
   },
   "outputs": [
    {
     "data": {
      "text/html": [
       "<div>\n",
       "<style scoped>\n",
       "    .dataframe tbody tr th:only-of-type {\n",
       "        vertical-align: middle;\n",
       "    }\n",
       "\n",
       "    .dataframe tbody tr th {\n",
       "        vertical-align: top;\n",
       "    }\n",
       "\n",
       "    .dataframe thead th {\n",
       "        text-align: right;\n",
       "    }\n",
       "</style>\n",
       "<table border=\"1\" class=\"dataframe\">\n",
       "  <thead>\n",
       "    <tr style=\"text-align: right;\">\n",
       "      <th></th>\n",
       "      <th>Review</th>\n",
       "      <th>preprocessed_reviews</th>\n",
       "      <th>cleaned_reviews</th>\n",
       "      <th>neg</th>\n",
       "      <th>neu</th>\n",
       "      <th>pos</th>\n",
       "      <th>compound</th>\n",
       "      <th>sentiment</th>\n",
       "    </tr>\n",
       "  </thead>\n",
       "  <tbody>\n",
       "    <tr>\n",
       "      <th>0</th>\n",
       "      <td>So helpful to have this available on my phone ...</td>\n",
       "      <td>helpful available phone tablet</td>\n",
       "      <td>So helpful to have this available on my phone ...</td>\n",
       "      <td>0.0</td>\n",
       "      <td>0.517</td>\n",
       "      <td>0.483</td>\n",
       "      <td>0.4215</td>\n",
       "      <td>positive</td>\n",
       "    </tr>\n",
       "    <tr>\n",
       "      <th>1</th>\n",
       "      <td>I love this app Mustang public schools use it ...</td>\n",
       "      <td>love app mustang public school use homework di...</td>\n",
       "      <td>I love this app Mustang public schools use it ...</td>\n",
       "      <td>0.0</td>\n",
       "      <td>0.582</td>\n",
       "      <td>0.418</td>\n",
       "      <td>0.9607</td>\n",
       "      <td>positive</td>\n",
       "    </tr>\n",
       "    <tr>\n",
       "      <th>2</th>\n",
       "      <td>its been great easy to navagate and use for my...</td>\n",
       "      <td>great easy navagate use nephew keep grade</td>\n",
       "      <td>its been great easy to navagate and use for my...</td>\n",
       "      <td>0.0</td>\n",
       "      <td>0.417</td>\n",
       "      <td>0.583</td>\n",
       "      <td>0.7906</td>\n",
       "      <td>positive</td>\n",
       "    </tr>\n",
       "    <tr>\n",
       "      <th>3</th>\n",
       "      <td>Easy to use</td>\n",
       "      <td>easy use</td>\n",
       "      <td>Easy to use</td>\n",
       "      <td>0.0</td>\n",
       "      <td>0.256</td>\n",
       "      <td>0.744</td>\n",
       "      <td>0.4404</td>\n",
       "      <td>positive</td>\n",
       "    </tr>\n",
       "    <tr>\n",
       "      <th>5</th>\n",
       "      <td>I was an exchange student so I only used this ...</td>\n",
       "      <td>exchange student use app semester help lot</td>\n",
       "      <td>I was an exchange student so I only used this ...</td>\n",
       "      <td>0.0</td>\n",
       "      <td>0.690</td>\n",
       "      <td>0.310</td>\n",
       "      <td>0.4019</td>\n",
       "      <td>positive</td>\n",
       "    </tr>\n",
       "  </tbody>\n",
       "</table>\n",
       "</div>"
      ],
      "text/plain": [
       "                                              Review  \\\n",
       "0  So helpful to have this available on my phone ...   \n",
       "1  I love this app Mustang public schools use it ...   \n",
       "2  its been great easy to navagate and use for my...   \n",
       "3                                        Easy to use   \n",
       "5  I was an exchange student so I only used this ...   \n",
       "\n",
       "                                preprocessed_reviews  \\\n",
       "0                     helpful available phone tablet   \n",
       "1  love app mustang public school use homework di...   \n",
       "2          great easy navagate use nephew keep grade   \n",
       "3                                           easy use   \n",
       "5         exchange student use app semester help lot   \n",
       "\n",
       "                                     cleaned_reviews  neg    neu    pos  \\\n",
       "0  So helpful to have this available on my phone ...  0.0  0.517  0.483   \n",
       "1  I love this app Mustang public schools use it ...  0.0  0.582  0.418   \n",
       "2  its been great easy to navagate and use for my...  0.0  0.417  0.583   \n",
       "3                                        Easy to use  0.0  0.256  0.744   \n",
       "5  I was an exchange student so I only used this ...  0.0  0.690  0.310   \n",
       "\n",
       "   compound sentiment  \n",
       "0    0.4215  positive  \n",
       "1    0.9607  positive  \n",
       "2    0.7906  positive  \n",
       "3    0.4404  positive  \n",
       "5    0.4019  positive  "
      ]
     },
     "execution_count": 16,
     "metadata": {},
     "output_type": "execute_result"
    }
   ],
   "source": [
    "def sentiments(data):\n",
    "    score = data['compound'].values\n",
    "    sentiment = []\n",
    "    \n",
    "    for i in score:\n",
    "        if i >= 0.05 : \n",
    "            sentiment.append(\"positive\")\n",
    "        elif i <= -0.05 :\n",
    "            sentiment.append(\"negative\")\n",
    "        else:\n",
    "            sentiment.append(\"neutral\")\n",
    "    data['sentiment'] = sentiment \n",
    "    return data\n",
    "\n",
    "#generate the labels\n",
    "df = sentiments(df)\n",
    "\n",
    "# remove the neutral labels from \n",
    "df_neutral = df[df['sentiment'] == 'neutral']\n",
    "\n",
    "df = df[~df.index.isin(df_neutral.index)]\n",
    "df.head()\n"
   ]
  },
  {
   "cell_type": "markdown",
   "id": "e2c64169",
   "metadata": {
    "id": "e2c64169"
   },
   "source": [
    "## Transforming Labels and Features"
   ]
  },
  {
   "cell_type": "code",
   "execution_count": 17,
   "id": "IUku-_PGkGQG",
   "metadata": {
    "id": "IUku-_PGkGQG"
   },
   "outputs": [
    {
     "name": "stdout",
     "output_type": "stream",
     "text": [
      "Positive (1) vs Negative (0) split:\n",
      " positive    0.706296\n",
      "negative    0.293704\n",
      "Name: sentiment, dtype: float64\n"
     ]
    },
    {
     "data": {
      "text/plain": [
       "Text(0.5, 1.0, 'Sentiment Score Distribution by Review Type')"
      ]
     },
     "execution_count": 17,
     "metadata": {},
     "output_type": "execute_result"
    },
    {
     "data": {
      "image/png": "[encoded data removed]",
      "text/plain": [
       "<Figure size 432x288 with 1 Axes>"
      ]
     },
     "metadata": {
      "needs_background": "light"
     },
     "output_type": "display_data"
    }
   ],
   "source": [
    "# For labels \n",
    "sentiments =df['sentiment'].values\n",
    "\n",
    "y = pd.get_dummies(df['sentiment']).values\n",
    "\n",
    "print (\"Positive (1) vs Negative (0) split:\" \"\\n\", df[\"sentiment\"].value_counts(normalize = True))\n",
    "sns.countplot(df['sentiment']).set_title('Sentiment Score Distribution by Review Type')\n"
   ]
  },
  {
   "cell_type": "code",
   "execution_count": 18,
   "id": "oF3ia1IrkkRo",
   "metadata": {
    "colab": {
     "base_uri": "https://localhost:8080/"
    },
    "id": "oF3ia1IrkkRo",
    "outputId": "070f2af8-ebcc-401e-b938-e6b2c596ae23"
   },
   "outputs": [
    {
     "data": {
      "text/plain": [
       "array([[0, 1],\n",
       "       [0, 1],\n",
       "       [0, 1],\n",
       "       ...,\n",
       "       [0, 1],\n",
       "       [0, 1],\n",
       "       [0, 1]], dtype=uint8)"
      ]
     },
     "execution_count": 18,
     "metadata": {},
     "output_type": "execute_result"
    }
   ],
   "source": [
    "y"
   ]
  },
  {
   "cell_type": "code",
   "execution_count": 19,
   "id": "8eafca7b",
   "metadata": {
    "colab": {
     "base_uri": "https://localhost:8080/"
    },
    "id": "8eafca7b",
    "outputId": "12562cf1-cf2b-4e23-be31-f1caf091879c"
   },
   "outputs": [
    {
     "name": "stdout",
     "output_type": "stream",
     "text": [
      "[[  0   0   0 ...   5  10 652]\n",
      " [  0   0   0 ...   8  56 110]\n",
      " [  0   0   0 ...  12 541  74]\n",
      " ...\n",
      " [  0   0   0 ... 126  42   6]\n",
      " [  0   0   0 ...  97   1 490]\n",
      " [  0   0   0 ...   4 753  12]]\n"
     ]
    }
   ],
   "source": [
    "# Feature selection\n",
    "#ignore_cols = ['Date', 'Rating', 'Review', 'neg', 'neu', 'pos', 'compound', 'sentiment']\n",
    "\n",
    "\n",
    "from keras.preprocessing.text import Tokenizer\n",
    "from keras.preprocessing.sequence import pad_sequences\n",
    "\n",
    "df['cleaned_reviews'] = df['cleaned_reviews'].apply(lambda x: x.lower())\n",
    "X= df['cleaned_reviews']\n",
    "\n",
    "max_words = 2000\n",
    "\n",
    "tokenizer = Tokenizer(num_words=max_words, split=' ')\n",
    "tokenizer.fit_on_texts(X.values)\n",
    "\n",
    "sequences = tokenizer.texts_to_sequences(X.values)\n",
    "review = pad_sequences(sequences)\n",
    "print(review)"
   ]
  },
  {
   "cell_type": "markdown",
   "id": "43ee57bf",
   "metadata": {
    "id": "43ee57bf"
   },
   "source": [
    "# MODEL DEVELOPMENT\n",
    "\n"
   ]
  },
  {
   "cell_type": "code",
   "execution_count": 20,
   "id": "23db359a",
   "metadata": {
    "colab": {
     "base_uri": "https://localhost:8080/"
    },
    "id": "23db359a",
    "outputId": "6a7c8cf8-5b8d-4007-fb82-cbac5a5965aa"
   },
   "outputs": [
    {
     "name": "stdout",
     "output_type": "stream",
     "text": [
      "Model: \"sequential\"\n",
      "_________________________________________________________________\n",
      " Layer (type)                Output Shape              Param #   \n",
      "=================================================================\n",
      " embedding (Embedding)       (None, 583, 128)          256000    \n",
      "                                                                 \n",
      " spatial_dropout1d (SpatialD  (None, 583, 128)         0         \n",
      " ropout1D)                                                       \n",
      "                                                                 \n",
      " lstm (LSTM)                 (None, 190)               242440    \n",
      "                                                                 \n",
      " dense (Dense)               (None, 2)                 382       \n",
      "                                                                 \n",
      "=================================================================\n",
      "Total params: 498,822\n",
      "Trainable params: 498,822\n",
      "Non-trainable params: 0\n",
      "_________________________________________________________________\n",
      "None\n"
     ]
    }
   ],
   "source": [
    "from keras.models import Sequential\n",
    "from keras import layers\n",
    "from keras import regularizers\n",
    "from keras.layers import Dense, Dropout \n",
    "from keras.layers import Dense, Embedding, LSTM, SpatialDropout1D\n",
    "max_words = 2000\n",
    "embed_dim = 128\n",
    "lstm_out = 190\n",
    "\n",
    "model = Sequential()\n",
    "model.add(Embedding(max_words, embed_dim,input_length = review.shape[1]))\n",
    "model.add(SpatialDropout1D(0.2))\n",
    "model.add(LSTM(lstm_out, dropout=0.2, recurrent_dropout=0.2))\n",
    "model.add(Dense(2,activation='softmax'))\n",
    "\n",
    "\n",
    "model.compile(loss = 'categorical_crossentropy', optimizer='adam',metrics = ['accuracy'])\n",
    "print(model.summary())"
   ]
  },
  {
   "cell_type": "markdown",
   "id": "10d66466",
   "metadata": {
    "id": "10d66466"
   },
   "source": [
    "# Training the model\n",
    "\n"
   ]
  },
  {
   "cell_type": "code",
   "execution_count": 21,
   "id": "3461a963",
   "metadata": {
    "id": "c5i2RK7hgq-t"
   },
   "outputs": [],
   "source": [
    "from sklearn.model_selection import train_test_split\n",
    "X_train, X_test, y_train, y_test = train_test_split(review,y, test_size = 0.25, random_state = 0)"
   ]
  },
  {
   "cell_type": "code",
   "execution_count": 22,
   "id": "kZ4yHlZDhzAC",
   "metadata": {
    "colab": {
     "base_uri": "https://localhost:8080/"
    },
    "id": "kZ4yHlZDhzAC",
    "outputId": "5bd950e6-b7a2-44e3-8f35-1ca3187f1fe4"
   },
   "outputs": [
    {
     "data": {
      "text/plain": [
       "array([[  0,   0,   0, ...,   3,  61,  26],\n",
       "       [  0,   0,   0, ...,  67,  13, 207],\n",
       "       [  0,   0,   0, ...,  20,  33, 358],\n",
       "       ...,\n",
       "       [  0,   0,   0, ...,   0, 130, 336],\n",
       "       [  0,   0,   0, ...,  40,  58,  20],\n",
       "       [  0,   0,   0, ...,  35,   1,  23]])"
      ]
     },
     "execution_count": 22,
     "metadata": {},
     "output_type": "execute_result"
    }
   ],
   "source": [
    "X_train"
   ]
  },
  {
   "cell_type": "code",
   "execution_count": 23,
   "id": "24RAScEClIDX",
   "metadata": {
    "colab": {
     "base_uri": "https://localhost:8080/"
    },
    "id": "24RAScEClIDX",
    "outputId": "a4b375b3-e059-4d7d-f248-a3298ecf7ce1"
   },
   "outputs": [
    {
     "data": {
      "text/plain": [
       "array([[0, 1],\n",
       "       [0, 1],\n",
       "       [0, 1],\n",
       "       ...,\n",
       "       [0, 1],\n",
       "       [1, 0],\n",
       "       [0, 1]], dtype=uint8)"
      ]
     },
     "execution_count": 23,
     "metadata": {},
     "output_type": "execute_result"
    }
   ],
   "source": [
    "y_train"
   ]
  },
  {
   "cell_type": "markdown",
   "id": "f12ca6f9",
   "metadata": {
    "id": "038a0aea"
   },
   "source": [
    "## Balancing our label class\n",
    "\n",
    "To address any imbalance in the datset and improve generalization of the model"
   ]
  },
  {
   "cell_type": "markdown",
   "id": "dcc952be",
   "metadata": {
    "colab": {
     "base_uri": "https://localhost:8080/"
    },
    "id": "54882945",
    "outputId": "e74bb144-d7c8-482a-8321-407ce3c6e454"
   },
   "source": [
    "#resampling with SmoteTomek\n",
    "print(\"The number of classes before resampling {}\".format(Counter(y_train)))\n",
    "\n",
    "from imblearn.combine import SMOTETomek\n",
    "smt=SMOTETomek()\n",
    "X_train_,y_train_=smt.fit_resample(X_train,y_train)\n",
    "\n",
    "print(\"The number of classes after resampling {}\".format(Counter(y_train_)))"
   ]
  },
  {
   "cell_type": "code",
   "execution_count": 24,
   "id": "9fa0beb2",
   "metadata": {
    "colab": {
     "base_uri": "https://localhost:8080/",
     "height": 1000
    },
    "id": "9fa0beb2",
    "outputId": "b989c838-c867-46e9-8966-af8862cd74ee"
   },
   "outputs": [
    {
     "name": "stdout",
     "output_type": "stream",
     "text": [
      "Epoch 1/10\n",
      "347/347 [==============================] - 1555s 4s/step - loss: 0.3614 - accuracy: 0.8391 - val_loss: 0.2624 - val_accuracy: 0.8869\n",
      "Epoch 2/10\n",
      "347/347 [==============================] - 1715s 5s/step - loss: 0.1854 - accuracy: 0.9269 - val_loss: 0.2141 - val_accuracy: 0.9170\n",
      "Epoch 3/10\n",
      "347/347 [==============================] - 1627s 5s/step - loss: 0.1474 - accuracy: 0.9445 - val_loss: 0.2117 - val_accuracy: 0.9118\n",
      "Epoch 4/10\n",
      "347/347 [==============================] - 1649s 5s/step - loss: 0.1180 - accuracy: 0.9564 - val_loss: 0.2016 - val_accuracy: 0.9218\n",
      "Epoch 5/10\n",
      "347/347 [==============================] - 1700s 5s/step - loss: 0.0977 - accuracy: 0.9634 - val_loss: 0.2312 - val_accuracy: 0.9145\n",
      "Epoch 6/10\n",
      "347/347 [==============================] - 1560s 4s/step - loss: 0.0828 - accuracy: 0.9699 - val_loss: 0.2431 - val_accuracy: 0.9210\n",
      "Epoch 7/10\n",
      "347/347 [==============================] - 1673s 5s/step - loss: 0.0689 - accuracy: 0.9757 - val_loss: 0.3115 - val_accuracy: 0.9161\n",
      "Epoch 8/10\n",
      "347/347 [==============================] - 1664s 5s/step - loss: 0.0615 - accuracy: 0.9780 - val_loss: 0.2545 - val_accuracy: 0.9051\n",
      "Epoch 9/10\n",
      "347/347 [==============================] - 1819s 5s/step - loss: 0.0545 - accuracy: 0.9792 - val_loss: 0.3017 - val_accuracy: 0.9164\n",
      "Epoch 10/10\n",
      "347/347 [==============================] - 1877s 5s/step - loss: 0.0601 - accuracy: 0.9762 - val_loss: 0.2788 - val_accuracy: 0.9161\n"
     ]
    }
   ],
   "source": [
    "# train the Neural network.    \n",
    "history = model.fit(X_train, y_train, epochs=10, verbose = 1, batch_size=32, validation_data=(X_test, y_test))"
   ]
  },
  {
   "cell_type": "markdown",
   "id": "7e1261ec",
   "metadata": {
    "id": "7e1261ec"
   },
   "source": [
    "# Evaluating the model's performance"
   ]
  },
  {
   "cell_type": "code",
   "execution_count": 25,
   "id": "67bcdc44",
   "metadata": {
    "colab": {
     "base_uri": "https://localhost:8080/",
     "height": 516
    },
    "id": "67bcdc44",
    "outputId": "a82137fe-052b-463b-ddbc-2e61d77d4673"
   },
   "outputs": [
    {
     "name": "stdout",
     "output_type": "stream",
     "text": [
      "Test accuracy: 0.9161482453346252\n"
     ]
    },
    {
     "data": {
      "image/png": "[encoded data removed]",
      "text/plain": [
       "<Figure size 576x576 with 2 Axes>"
      ]
     },
     "metadata": {
      "needs_background": "light"
     },
     "output_type": "display_data"
    }
   ],
   "source": [
    "#visualize model's performance metrics\n",
    "import matplotlib.pyplot as plt\n",
    "epochs = 10\n",
    "acc = history.history['accuracy']\n",
    "val_acc = history.history['val_accuracy']\n",
    "loss = history.history['loss']\n",
    "val_loss = history.history['val_loss']\n",
    "epochs_range = range(epochs) \n",
    "score = model.evaluate(X_test, y_test, verbose=0)\n",
    "print('Test accuracy:', score[1])\n",
    "\n",
    "# Define a function to plot the metrics of a model's performance\n",
    "def plot_acc_loss():\n",
    "    plt.figure(figsize=(8, 8))\n",
    "    \n",
    "    plt.subplot(1, 2, 1)\n",
    "    plt.plot(epochs_range, acc, label='Training Accuracy')\n",
    "    plt.plot(epochs_range, val_acc, label='Validation Accuracy')\n",
    "    plt.legend(loc='lower right')\n",
    "    plt.title('Training and Validation Accuracy')\n",
    "\n",
    "    plt.subplot(1, 2, 2)\n",
    "    plt.plot(epochs_range, loss, label='Training Loss')\n",
    "    plt.plot(epochs_range, val_loss, label='Validation Loss')\n",
    "    plt.legend(loc='upper right')\n",
    "    plt.title('Training and Validation Loss')\n",
    "    plt.show()\n",
    "    \n",
    "#visualize model's performance metrics\n",
    "plot_acc_loss()"
   ]
  },
  {
   "cell_type": "markdown",
   "id": "6446a8f3",
   "metadata": {
    "id": "6446a8f3"
   },
   "source": [
    "### Classification Report:\n",
    "The model achieved an average precision of ???, average recall of ?? and average accuracy of ??. We can see the model has higher precision when it comes to predicting positive review. This may be because the positive sentiment is one of most important feature for our model (refer to Feature Importance section).\n",
    "\n"
   ]
  },
  {
   "cell_type": "code",
   "execution_count": 44,
   "id": "a52b01b3",
   "metadata": {
    "id": "a52b01b3"
   },
   "outputs": [
    {
     "name": "stdout",
     "output_type": "stream",
     "text": [
      "116/116 - 70s - 70s/epoch - 607ms/step\n",
      "[1 1 0 ... 1 1 1]\n"
     ]
    }
   ],
   "source": [
    "# generating predictions on the test data\n",
    "y_pred=model.predict(X_test,verbose=2)\n",
    "##define 1D array to generate classification report\n",
    "y_pred=np.argmax(y_pred,axis=1)\n",
    "\n",
    "# extract the predicted class labels\n",
    "#y_pred = np.where(y_pred_prob > 0.5, 1, 0)\n",
    "print(y_pred)"
   ]
  },
  {
   "cell_type": "code",
   "execution_count": 45,
   "id": "2db9a7d2",
   "metadata": {},
   "outputs": [
    {
     "name": "stdout",
     "output_type": "stream",
     "text": [
      "Recall: 0.9318095238095238\n",
      "Accuracy score: 0.9161482282932107\n",
      "Precision score: 0.9491656965463717\n",
      "None\n"
     ]
    },
    {
     "data": {
      "text/plain": [
       "Text(0.5, 15.0, 'Predicted label')"
      ]
     },
     "execution_count": 45,
     "metadata": {},
     "output_type": "execute_result"
    },
    {
     "data": {
      "image/png": "[encoded data removed]",
      "text/plain": [
       "<Figure size 432x288 with 2 Axes>"
      ]
     },
     "metadata": {
      "needs_background": "light"
     },
     "output_type": "display_data"
    }
   ],
   "source": [
    "##define 1D array to generate classification report\n",
    "y_test_unecoded=np.argmax(y_test, axis=1)\n",
    "\n",
    "def class_report(ytest, y_pred, name=''):  \n",
    "    recall = recall_score(ytest, y_pred)\n",
    "    precision = precision_score(ytest, y_pred)\n",
    "    acc = accuracy_score(ytest, y_pred)\n",
    "    print(f'Recall: {recall}')\n",
    "    print(f'Accuracy score: {acc}')\n",
    "    print(f'Precision score: {precision}')\n",
    "\n",
    "# evaluate the model\n",
    "report = class_report(y_test_unecoded, y_pred)\n",
    "print(report)\n",
    "\n",
    "cnf_matrix = confusion_matrix(y_test_unecoded, y_pred)\n",
    "p = sns.heatmap(pd.DataFrame(cnf_matrix), annot=True, cmap=\"YlGnBu\" ,fmt='g')\n",
    "plt.title('Confusion matrix', y=1.1)\n",
    "plt.ylabel('Actual label')\n",
    "plt.xlabel('Predicted label')"
   ]
  },
  {
   "cell_type": "code",
   "execution_count": 49,
   "id": "4709b06d",
   "metadata": {
    "id": "4709b06d"
   },
   "outputs": [
    {
     "data": {
      "image/png": "[encoded data removed]",
      "text/plain": [
       "<Figure size 720x360 with 1 Axes>"
      ]
     },
     "metadata": {
      "needs_background": "light"
     },
     "output_type": "display_data"
    }
   ],
   "source": [
    "fpr, tpr, thresholds = roc_curve(y_test_unecoded, y_pred, pos_label = 1)\n",
    "roc_auc = auc(fpr, tpr)\n",
    "plt.figure(1, figsize = (10, 5))\n",
    "lw = 2\n",
    "plt.plot(fpr, tpr, color='red',\n",
    "         lw=lw, label='ROC curve (area = %0.2f)' % roc_auc)\n",
    "plt.plot([0, 1], [0, 1], lw=lw, linestyle='--')\n",
    "plt.xlim([0.0, 1.0])\n",
    "plt.ylim([0.0, 1.0])\n",
    "plt.xlabel('False Positive Rate')\n",
    "plt.ylabel('True Positive Rate')\n",
    "plt.title('Receiver operating characteristic example')\n",
    "plt.legend(loc=\"lower right\")\n",
    "plt.show()"
   ]
  },
  {
   "cell_type": "markdown",
   "id": "ecf13c16",
   "metadata": {
    "id": "ecf13c16"
   },
   "source": [
    "## Assessing Model against alternative benchmark settings\n",
    "\n",
    "### Neural network Architecture - Bidirectional Neural network "
   ]
  },
  {
   "cell_type": "code",
   "execution_count": 52,
   "id": "7f158e56",
   "metadata": {
    "id": "7f158e56"
   },
   "outputs": [
    {
     "name": "stdout",
     "output_type": "stream",
     "text": [
      "Model: \"sequential_2\"\n",
      "_________________________________________________________________\n",
      " Layer (type)                Output Shape              Param #   \n",
      "=================================================================\n",
      " embedding_2 (Embedding)     (None, 583, 128)          256000    \n",
      "                                                                 \n",
      " spatial_dropout1d_2 (Spatia  (None, 583, 128)         0         \n",
      " lDropout1D)                                                     \n",
      "                                                                 \n",
      " bidirectional (Bidirectiona  (None, 380)              484880    \n",
      " l)                                                              \n",
      "                                                                 \n",
      " dense_2 (Dense)             (None, 2)                 762       \n",
      "                                                                 \n",
      "=================================================================\n",
      "Total params: 741,642\n",
      "Trainable params: 741,642\n",
      "Non-trainable params: 0\n",
      "_________________________________________________________________\n",
      "None\n"
     ]
    }
   ],
   "source": [
    "model2 = Sequential()\n",
    "model2.add(Embedding(max_words, embed_dim,input_length = review.shape[1]))\n",
    "model2.add(SpatialDropout1D(0.2))\n",
    "model2.add(layers.Bidirectional(layers.LSTM(lstm_out, dropout=0.2, recurrent_dropout=0.2)))\n",
    "model2.add(Dense(2,activation='softmax'))\n",
    "model2.compile(loss = 'categorical_crossentropy', optimizer='adam',metrics = ['accuracy'])\n",
    "           \n",
    "print(model2.summary())"
   ]
  },
  {
   "cell_type": "code",
   "execution_count": 54,
   "id": "0e442555",
   "metadata": {
    "id": "0e442555"
   },
   "outputs": [
    {
     "name": "stdout",
     "output_type": "stream",
     "text": [
      "Epoch 1/10\n",
      "347/347 [==============================] - 4425s 13s/step - loss: 0.0388 - accuracy: 0.9839 - val_loss: 0.3053 - val_accuracy: 0.9145\n",
      "Epoch 2/10\n",
      "347/347 [==============================] - 4458s 13s/step - loss: 0.0386 - accuracy: 0.9851 - val_loss: 0.3603 - val_accuracy: 0.9145\n",
      "Epoch 3/10\n",
      "347/347 [==============================] - 4501s 13s/step - loss: 0.0417 - accuracy: 0.9848 - val_loss: 0.3860 - val_accuracy: 0.9132\n",
      "Epoch 4/10\n",
      "347/347 [==============================] - 5145s 15s/step - loss: 0.0353 - accuracy: 0.9871 - val_loss: 0.3445 - val_accuracy: 0.9140\n",
      "Epoch 5/10\n",
      "347/347 [==============================] - 4912s 14s/step - loss: 0.0473 - accuracy: 0.9844 - val_loss: 0.3596 - val_accuracy: 0.9194\n",
      "Epoch 6/10\n",
      "347/347 [==============================] - 4795s 14s/step - loss: 0.0269 - accuracy: 0.9907 - val_loss: 0.3979 - val_accuracy: 0.9137\n",
      "Epoch 7/10\n",
      "347/347 [==============================] - 4582s 13s/step - loss: 0.0208 - accuracy: 0.9915 - val_loss: 0.3975 - val_accuracy: 0.9148\n",
      "Epoch 8/10\n",
      "347/347 [==============================] - 4708s 14s/step - loss: 0.0225 - accuracy: 0.9911 - val_loss: 0.4506 - val_accuracy: 0.9159\n",
      "Epoch 9/10\n",
      "347/347 [==============================] - 4534s 13s/step - loss: 0.0223 - accuracy: 0.9902 - val_loss: 0.5031 - val_accuracy: 0.9097\n",
      "Epoch 10/10\n",
      "347/347 [==============================] - 4530s 13s/step - loss: 0.0226 - accuracy: 0.9919 - val_loss: 0.4307 - val_accuracy: 0.9121\n",
      "Test accuracy: 0.9161482453346252\n"
     ]
    },
    {
     "data": {
      "image/png": "[encoded data removed]",
      "text/plain": [
       "<Figure size 576x576 with 2 Axes>"
      ]
     },
     "metadata": {
      "needs_background": "light"
     },
     "output_type": "display_data"
    }
   ],
   "source": [
    "# train the Neural network.\n",
    "history = model2.fit(X_train, y_train, epochs=10, verbose = 1, validation_data=(X_test, y_test))\n",
    "\n",
    "#visualize model's performance metrics\n",
    "epochs = 10\n",
    "acc = history.history['accuracy']\n",
    "val_acc = history.history['val_accuracy']\n",
    "loss = history.history['loss']\n",
    "val_loss = history.history['val_loss']\n",
    "epochs_range = range(epochs) \n",
    "\n",
    "score = model.evaluate(X_test, y_test, verbose=0)\n",
    "print('Test accuracy:', score[1])\n",
    "\n",
    "#visualize model's performance metrics\n",
    "plot_acc_loss()"
   ]
  },
  {
   "cell_type": "markdown",
   "id": "93020554",
   "metadata": {
    "id": "93020554"
   },
   "source": [
    "#### Evaluating the model"
   ]
  },
  {
   "cell_type": "code",
   "execution_count": null,
   "id": "4004bfc2",
   "metadata": {
    "id": "4004bfc2"
   },
   "outputs": [],
   "source": [
    "# generating predictions on the test data\n",
    "y_pred=model2.predict(X_test,verbose=2)\n",
    "\n",
    "##define 1D array to generate classification report\n",
    "y_pred=np.argmax(y_pred,axis=1)\n",
    "\n",
    "\n",
    "\n",
    "# evaluate the model\n",
    "##define 1D array to generate classification report\n",
    "y_test_unecoded=np.argmax(y_test, axis=1)\n",
    "\n",
    "# evaluate the model\n",
    "report = class_report(y_test_unecoded, y_pred)\n",
    "print(report)\n",
    "\n",
    "cnf_matrix = confusion_matrix(y_test_unecoded, y_pred)\n",
    "p = sns.heatmap(pd.DataFrame(cnf_matrix), annot=True, cmap=\"YlGnBu\" ,fmt='g')\n",
    "plt.title('Confusion matrix', y=1.1)\n",
    "plt.ylabel('Actual label')\n",
    "plt.xlabel('Predicted label')"
   ]
  },
  {
   "cell_type": "code",
   "execution_count": 67,
   "id": "f8335a2d",
   "metadata": {
    "id": "f8335a2d"
   },
   "outputs": [
    {
     "data": {
      "image/png": "[encoded data removed]",
      "text/plain": [
       "<Figure size 720x360 with 1 Axes>"
      ]
     },
     "metadata": {
      "needs_background": "light"
     },
     "output_type": "display_data"
    }
   ],
   "source": [
    "fpr, tpr, thresholds = roc_curve(y_test_unecoded, y_pred, pos_label = 1)\n",
    "roc_auc = auc(fpr, tpr)\n",
    "plt.figure(1, figsize = (10, 5))\n",
    "lw = 2\n",
    "plt.plot(fpr, tpr, color='red',\n",
    "         lw=lw, label='ROC curve (area = %0.2f)' % roc_auc)\n",
    "plt.plot([0, 1], [0, 1], lw=lw, linestyle='--')\n",
    "plt.xlim([0.0, 1.0])\n",
    "plt.ylim([0.0, 1.0])\n",
    "plt.xlabel('False Positive Rate')\n",
    "plt.ylabel('True Positive Rate')\n",
    "plt.title('Receiver operating characteristic Bi-LSTM')\n",
    "plt.legend(loc=\"lower right\")\n",
    "plt.show()"
   ]
  },
  {
   "cell_type": "markdown",
   "id": "d65e070f",
   "metadata": {
    "id": "d65e070f"
   },
   "source": [
    "### Different model set up - A Random Forest Classifier  (RFC) "
   ]
  },
  {
   "cell_type": "markdown",
   "id": "34ec3d4a",
   "metadata": {
    "id": "34ec3d4a"
   },
   "source": [
    "#### Preprocessing data for RFC"
   ]
  },
  {
   "cell_type": "code",
   "execution_count": 20,
   "id": "2791a4fd",
   "metadata": {
    "id": "2791a4fd"
   },
   "outputs": [],
   "source": [
    "cv = CountVectorizer() \n",
    "X2 = cv.fit_transform(df['preprocessed_reviews']).toarray()# redefine training and test data\n",
    "\n",
    "from sklearn.model_selection import train_test_split\n",
    "X2_train, X2_test, y_train, y_test = train_test_split(X2,y, test_size = 0.25, random_state = 0)\n",
    "y_train = np.argmax(y_train, axis=1)"
   ]
  },
  {
   "cell_type": "markdown",
   "id": "de50bd64",
   "metadata": {
    "id": "de50bd64"
   },
   "source": [
    "#### Training the model"
   ]
  },
  {
   "cell_type": "code",
   "execution_count": 22,
   "id": "1303bcf2",
   "metadata": {
    "id": "1303bcf2"
   },
   "outputs": [
    {
     "data": {
      "text/plain": [
       "RandomForestClassifier(n_estimators=150, random_state=101)"
      ]
     },
     "execution_count": 22,
     "metadata": {},
     "output_type": "execute_result"
    }
   ],
   "source": [
    "from sklearn.ensemble import RandomForestClassifier\n",
    "# train a random forest classifier\n",
    "rfc = RandomForestClassifier(n_estimators = 150, random_state = 101)\n",
    "rfc.fit(X2_train,y_train) "
   ]
  },
  {
   "cell_type": "markdown",
   "id": "7f6c80bb",
   "metadata": {
    "id": "7f6c80bb"
   },
   "source": [
    "#### Evaluating the model"
   ]
  },
  {
   "cell_type": "code",
   "execution_count": 30,
   "id": "ee47f8e0",
   "metadata": {
    "id": "ee47f8e0"
   },
   "outputs": [
    {
     "name": "stdout",
     "output_type": "stream",
     "text": [
      "1.0\n",
      "Recall: 0.96\n",
      "Accuracy score: 0.9169596970516635\n",
      "Precision score: 0.925789860396767\n",
      "None\n"
     ]
    },
    {
     "data": {
      "text/plain": [
       "Text(0.5, 15.0, 'Predicted label')"
      ]
     },
     "execution_count": 30,
     "metadata": {},
     "output_type": "execute_result"
    },
    {
     "data": {
      "image/png": "[encoded data removed]",
      "text/plain": [
       "<Figure size 432x288 with 2 Axes>"
      ]
     },
     "metadata": {
      "needs_background": "light"
     },
     "output_type": "display_data"
    }
   ],
   "source": [
    "rfc_training_accuracy = accuracy_score(y_train, rfc.predict(X2_train))\n",
    "print(rfc_training_accuracy)\n",
    "\n",
    "# making predictions on the unseen data\n",
    "rfc_pred=rfc.predict(X2_test)\n",
    "\n",
    "##define 1D array to generate classification report\n",
    "#rfc_pred=np.argmax(rfc_pred,axis=1)\n",
    "\n",
    "\n",
    "\n",
    "# evaluate the model\n",
    "##define 1D array to generate classification report\n",
    "y_test_unecoded=np.argmax(y_test, axis=1)\n",
    "\n",
    "\n",
    "def class_report(ytest, y_pred, name=''):  \n",
    "    recall = recall_score(ytest, y_pred)\n",
    "    precision = precision_score(ytest, y_pred)\n",
    "    acc = accuracy_score(ytest, y_pred)\n",
    "    print(f'Recall: {recall}')\n",
    "    print(f'Accuracy score: {acc}')\n",
    "    print(f'Precision score: {precision}')\n",
    "    \n",
    "# evaluate the model\n",
    "baseline_report = class_report(y_test_unecoded, rfc_pred.round())\n",
    "print(baseline_report)\n",
    "\n",
    "cnf_matrix = confusion_matrix(y_test_unecoded, rfc_pred)\n",
    "p = sns.heatmap(pd.DataFrame(cnf_matrix), annot=True, cmap=\"YlGnBu\" ,fmt='g')\n",
    "plt.title('Confusion matrix', y=1.1)\n",
    "plt.ylabel('Actual label')\n",
    "plt.xlabel('Predicted label')"
   ]
  },
  {
   "cell_type": "code",
   "execution_count": 33,
   "id": "61943996",
   "metadata": {
    "id": "61943996"
   },
   "outputs": [
    {
     "data": {
      "image/png": "[encoded data removed]",
      "text/plain": [
       "<Figure size 720x360 with 1 Axes>"
      ]
     },
     "metadata": {
      "needs_background": "light"
     },
     "output_type": "display_data"
    }
   ],
   "source": [
    "rfc_prob_pred = [x[1] for x in rfc.predict_proba(X2_test)]\n",
    "fpr, tpr, thresholds = roc_curve(y_test_unecoded, rfc_prob_pred, pos_label = 1)\n",
    "roc_auc = auc(fpr, tpr)\n",
    "plt.figure(1, figsize = (10, 5))\n",
    "lw = 2\n",
    "plt.plot(fpr, tpr, color='red',\n",
    "         lw=lw, label='ROC curve (area = %0.2f)' % roc_auc)\n",
    "plt.plot([0, 1], [0, 1], lw=lw, linestyle='--')\n",
    "plt.xlim([0.0, 1.0])\n",
    "plt.ylim([0.0, 1.0])\n",
    "plt.xlabel('False Positive Rate')\n",
    "plt.ylabel('True Positive Rate')\n",
    "plt.title('Receiver operating characteristic example')\n",
    "plt.legend(loc=\"lower right\")\n",
    "plt.show()"
   ]
  },
  {
   "cell_type": "markdown",
   "id": "b5e0e80a",
   "metadata": {
    "id": "b5e0e80a"
   },
   "source": []
  }
 ],
 "metadata": {
  "accelerator": "GPU",
  "colab": {
   "collapsed_sections": [],
   "name": "Copy of Sentiment Analysis of Canvas Student App reviews.ipynb",
   "provenance": []
  },
  "kernelspec": {
   "display_name": "Python 3",
   "language": "python",
   "name": "python3"
  },
  "language_info": {
   "codemirror_mode": {
    "name": "ipython",
    "version": 3
   },
   "file_extension": ".py",
   "mimetype": "text/x-python",
   "name": "python",
   "nbconvert_exporter": "python",
   "pygments_lexer": "ipython3",
   "version": "3.8.8"
  }
 },
 "nbformat": 4,
 "nbformat_minor": 5
}
